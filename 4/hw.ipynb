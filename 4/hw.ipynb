{
 "cells": [
  {
   "cell_type": "code",
   "execution_count": 97,
   "metadata": {
    "collapsed": true
   },
   "outputs": [],
   "source": [
    "%matplotlib inline"
   ]
  },
  {
   "cell_type": "code",
   "execution_count": 98,
   "metadata": {
    "collapsed": true
   },
   "outputs": [],
   "source": [
    "import torch\n",
    "import torch.optim as optim\n",
    "\n",
    "import time\n",
    "import torch.nn as nn\n",
    "import torch.nn.functional as F\n",
    "\n",
    "from sklearn.metrics import accuracy_score\n",
    "\n",
    "import numpy as np\n",
    "import PIL\n",
    "import random\n",
    "from IPython.core.display import Image, display\n",
    "\n",
    "import matplotlib.pyplot as plt"
   ]
  },
  {
   "cell_type": "code",
   "execution_count": 99,
   "metadata": {
    "collapsed": true
   },
   "outputs": [],
   "source": [
    "#отключает warnings pytorch\n",
    "import warnings\n",
    "warnings.filterwarnings('ignore')"
   ]
  },
  {
   "cell_type": "code",
   "execution_count": 100,
   "metadata": {
    "collapsed": true
   },
   "outputs": [],
   "source": [
    "DEVICE_ID = 2\n",
    "DEVICE = torch.device('cuda:%d' % DEVICE_ID)\n",
    "torch.cuda.set_device(DEVICE_ID)"
   ]
  },
  {
   "cell_type": "code",
   "execution_count": 101,
   "metadata": {
    "collapsed": true
   },
   "outputs": [],
   "source": [
    "### Для запуска без GPU раскомментировать и закоментировать код выше\n",
    "# DEVICE = torch.device('cpu')"
   ]
  },
  {
   "cell_type": "code",
   "execution_count": 102,
   "metadata": {
    "collapsed": true
   },
   "outputs": [],
   "source": [
    "np.random.seed(100500)\n",
    "\n",
    "def data2image(data):\n",
    "    res = np.transpose(np.reshape(data ,(3, 32,32)), (1,2,0))\n",
    "    return PIL.Image.fromarray(np.uint8(res))\n",
    "\n",
    "def imshow(img):\n",
    "    if isinstance(img, torch.Tensor): img = img.numpy().astype('uint8')\n",
    "    plt.imshow(np.transpose(img, (1, 2, 0)))\n",
    "    \n",
    "def prediction2classes(output_var):\n",
    "    _, predicted = torch.max(output_var.data, 1)\n",
    "    predicted.squeeze_()\n",
    "    classes = predicted.tolist()\n",
    "    return classes\n",
    "\n",
    "def make_solution_pytorch(net, input_tensor, a_batch_size):\n",
    "    res = []\n",
    "    net = net.eval()\n",
    "    cur_pos = 0\n",
    "    while cur_pos <= len(input_tensor):\n",
    "        outputs = net(input_tensor[cur_pos:cur_pos+a_batch_size])\n",
    "        res += prediction2classes(outputs)\n",
    "        cur_pos += a_batch_size\n",
    "    return res"
   ]
  },
  {
   "cell_type": "code",
   "execution_count": 103,
   "metadata": {
    "collapsed": true
   },
   "outputs": [],
   "source": [
    "from torch.utils.data import Dataset, DataLoader\n",
    "from torchvision import transforms, utils\n",
    "from PIL import Image\n",
    "\n",
    "class CifarDataset(Dataset):\n",
    "    def __init__(self, input_path, is_train=True, transform=None):\n",
    "                        \n",
    "        data = np.load(input_path)\n",
    "        if is_train: \n",
    "            self.Y, self.X = np.hsplit(data, [1]) \n",
    "            self.Y = [item[0] for item in self.Y]\n",
    "        else: \n",
    "            self.X = data\n",
    "            self.Y = None\n",
    "            \n",
    "        self.X = self.X.reshape((self.X.shape[0], 3, 32, 32))\n",
    "        self.X = self.X.transpose((0, 2, 3, 1)) #приводим к виду (N, H, W, C)\n",
    "        self.X = [Image.fromarray(img) for img in self.X]\n",
    "                \n",
    "        self.transform = transform\n",
    "\n",
    "    def __len__(self):\n",
    "        return len(self.X)\n",
    "\n",
    "    def __getitem__(self, idx):\n",
    "        \n",
    "        sample = self.X[idx]\n",
    "\n",
    "        if self.transform: sample = self.transform(sample)\n",
    "\n",
    "        if self.Y is None: return sample\n",
    "        else: return (sample, self.Y[idx])"
   ]
  },
  {
   "cell_type": "code",
   "execution_count": 104,
   "metadata": {
    "collapsed": true
   },
   "outputs": [],
   "source": [
    "#Надо поменять пути на свои до файлов с kaggle\n",
    "DATA_PATH  = '/home/alexander.veselev/'\n",
    "train_path = 'homework_4.train.npy'\n",
    "test_path  = 'homework_4_no_classes.test.npy'\n",
    "saved_net_path = 'saved_net.pth'"
   ]
  },
  {
   "cell_type": "code",
   "execution_count": 105,
   "metadata": {
    "collapsed": true
   },
   "outputs": [],
   "source": [
    "np_mean = np.mean([item[0].numpy() for item in CifarDataset(DATA_PATH + train_path, transform=transforms.ToTensor())], axis=(0,2,3))\n",
    "np_std = np.std([item[0].numpy() for item in CifarDataset(DATA_PATH + train_path, transform=transforms.ToTensor())], axis=(0,2,3))"
   ]
  },
  {
   "cell_type": "code",
   "execution_count": 106,
   "metadata": {
    "collapsed": false
   },
   "outputs": [
    {
     "data": {
      "text/plain": [
       "(3,)"
      ]
     },
     "execution_count": 106,
     "metadata": {},
     "output_type": "execute_result"
    }
   ],
   "source": [
    "np_mean.shape"
   ]
  },
  {
   "cell_type": "code",
   "execution_count": 107,
   "metadata": {
    "collapsed": true
   },
   "outputs": [],
   "source": [
    "cifar_transform_norm = transforms.Compose([\n",
    "    transforms.Pad(4),\n",
    "    transforms.RandomCrop(32),\n",
    "    transforms.RandomHorizontalFlip(),\n",
    "    transforms.ToTensor(),\n",
    "    transforms.Normalize(torch.FloatTensor(np_mean), torch.FloatTensor(np_std))\n",
    "]\n",
    ")\n",
    "\n",
    "cifar_test_transform_norm = transforms.Compose([    \n",
    "    transforms.ToTensor(),\n",
    "    transforms.Normalize(torch.FloatTensor(np_mean), torch.FloatTensor(np_std))\n",
    "]\n",
    ")"
   ]
  },
  {
   "cell_type": "code",
   "execution_count": 108,
   "metadata": {
    "collapsed": false
   },
   "outputs": [],
   "source": [
    "# from tqdm import tqdm_notebook\n",
    "\n",
    "dataset_train_norm = CifarDataset(DATA_PATH + train_path, transform=cifar_transform_norm)\n",
    "dataloader_train_norm = DataLoader(dataset_train_norm, batch_size=128,\n",
    "                        shuffle=True, num_workers=4)\n",
    "\n",
    "dataset_test_norm = CifarDataset(DATA_PATH + test_path, is_train=False, transform=cifar_test_transform_norm)\n",
    "dataloader_test_norm = DataLoader(dataset_test_norm, batch_size=128,\n",
    "                        shuffle=False, num_workers=1)\n",
    "saved_net_path = 'net_saved.pth'\n",
    "\n",
    "def train_network(a_net, \n",
    "                  a_device,\n",
    "                  dataloader_train_norm=dataloader_train_norm,\n",
    "                  a_epochs=164,\n",
    "                  a_batch_size=128,\n",
    "                  a_lr=0.1):\n",
    "    \n",
    "    start_time = time.time()\n",
    "    train_acc = []\n",
    "    net = a_net.to(a_device)\n",
    "\n",
    "    criterion = nn.CrossEntropyLoss()\n",
    "    optimizer = torch.optim.SGD(a_net.parameters(), lr=a_lr, weight_decay=0.0001, momentum=0.9)\n",
    "\n",
    "    prev_epoch_time = start_time\n",
    "    for epoch in range(a_epochs):  # loop over the dataset multiple times\n",
    "        if epoch == 42:\n",
    "            optimizer = torch.optim.SGD(a_net.parameters(), lr=a_lr/10, weight_decay=0.0001, momentum=0.9) \n",
    "        elif epoch == 90:\n",
    "            optimizer = torch.optim.SGD(a_net.parameters(), lr=a_lr/100, weight_decay=0.0001, momentum=0.9) \n",
    "        elif epoch == 123:\n",
    "            optimizer = torch.optim.SGD(a_net.parameters(), lr=a_lr/250, weight_decay=0.0001, momentum=0.9)\n",
    "         \n",
    "        net = net.train()        \n",
    "        epoch_accuracy = 0.0\n",
    "        epoch_iters = 0\n",
    "        for item in dataloader_train_norm:\n",
    "            \n",
    "            epoch_iters += 1\n",
    "\n",
    "            inputs = item[0].to(a_device)\n",
    "            labels = item[1].long().to(a_device)\n",
    "\n",
    "            # zero the parameter gradients\n",
    "            optimizer.zero_grad()\n",
    "\n",
    "            # forward + backward + optimize\n",
    "            outputs = net(inputs)\n",
    "            loss = criterion(outputs, labels)\n",
    "            loss.backward()\n",
    "            optimizer.step()\n",
    "            epoch_accuracy += accuracy_score(labels.cpu(), prediction2classes(outputs))\n",
    "\n",
    "        epoch_accuracy /= epoch_iters\n",
    "        train_acc.append(epoch_accuracy)\n",
    "\n",
    "        # saving the net state\n",
    "        torch.save(net.state_dict(), DATA_PATH + saved_net_path)\n",
    "        print(\"Epoch {}\\t Train accuracy {}\".format(epoch, round(train_acc[-1], 4)))\n",
    "        cur_epoch_time = time.time()\n",
    "        print('Epoch time : ', cur_epoch_time - prev_epoch_time )\n",
    "        prev_epoch_time = cur_epoch_time\n",
    "        \n",
    "    print('Finished Training')\n",
    "    print(\"Total time : \", (time.time()-start_time))\n",
    "    \n",
    "    plt.plot(train_acc, label='Train')\n",
    "    plt.legend()\n",
    "    plt.grid(c='grey')"
   ]
  },
  {
   "cell_type": "code",
   "execution_count": 109,
   "metadata": {
    "collapsed": true
   },
   "outputs": [],
   "source": [
    "DOWNSAMPLE_COEF = 2\n",
    "\n",
    "def conv3x3(a_in_planes, a_out_planes, a_stride=1):\n",
    "    \"\"\"\n",
    "    Основной строительный блок конволюций для ResNet\n",
    "    Включает в себя padding=1 - чтобы размерность сохранялась после его применения\n",
    "    \"\"\"\n",
    "    return nn.Conv2d(a_in_planes, a_out_planes,  stride=a_stride,\n",
    "                     kernel_size=3, padding=1, bias=False)\n",
    "\n",
    "def x_downsample(a_in_channels, a_out_channels, stride):\n",
    "     return nn.Conv2d(a_in_channels, \n",
    "               a_out_channels,\n",
    "               kernel_size=1,\n",
    "               stride=stride,\n",
    "               bias=False)"
   ]
  },
  {
   "cell_type": "code",
   "execution_count": 110,
   "metadata": {
    "collapsed": false
   },
   "outputs": [],
   "source": [
    "class CifarResidualBlock(nn.Module):\n",
    "    def __init__(self, a_in_channels, \n",
    "                       a_out_channels, \n",
    "                       stride=1,\n",
    "                       make_downsample=False):\n",
    "        super(CifarResidualBlock, self).__init__()\n",
    "        self.make_downsample = make_downsample\n",
    "        \n",
    "        self.features = nn.Sequential()\n",
    "        self.features.add_module('conv_1', conv3x3(a_in_channels, \n",
    "                                                   a_out_channels))\n",
    "        self.features.add_module('bn_1', nn.BatchNorm2d(a_out_channels))\n",
    "        self.features.add_module('relu_1', nn.ReLU())\n",
    "        self.features.add_module('conv_2', conv3x3(a_out_channels, \n",
    "                                                   a_out_channels, \n",
    "                                                   a_stride=stride))\n",
    "        self.features.add_module('bn_2', nn.BatchNorm2d(a_out_channels))\n",
    "        self.features.add_module('relu_2', nn.ReLU())\n",
    "        \n",
    "        \n",
    "        self.downsample =  nn.Sequential()\n",
    "        if self.make_downsample:\n",
    "            self.downsample = nn.Sequential(\n",
    "                                     x_downsample(a_in_channels, \n",
    "                                                  a_out_channels, \n",
    "                                                  stride)\n",
    "            )\n",
    "    def forward(self, x):\n",
    "        net = self.features(x)\n",
    "        net += self.downsample(x)\n",
    "        return net"
   ]
  },
  {
   "cell_type": "code",
   "execution_count": 111,
   "metadata": {
    "collapsed": true
   },
   "outputs": [],
   "source": [
    "class CifarResNet(nn.Module):\n",
    "    \n",
    "    def __init__(self):\n",
    "        super(CifarResNet, self).__init__()        \n",
    "        \n",
    "        self.features = nn.Sequential()\n",
    "        self.features.add_module('conv_1', conv3x3(3, 16))\n",
    "        self.features.add_module('bn_1', nn.BatchNorm2d(16))\n",
    "        self.features.add_module('relu_1', nn.LeakyReLU())\n",
    "        self.features.add_module('cifar_1', \n",
    "                                 CifarResidualBlock(16, 64, \n",
    "                                                    make_downsample=True))\n",
    "        self.features.add_module('cifar_2', \n",
    "                                 CifarResidualBlock(64, 64))\n",
    "        self.features.add_module('dropout_1', \n",
    "                                 nn.Dropout(p=0.2))\n",
    "        self.features.add_module('cifar_3', \n",
    "                                 CifarResidualBlock(64, 64))\n",
    "        self.features.add_module('cifar_4', \n",
    "                                 CifarResidualBlock(64, 128, stride=2,\n",
    "                                                    make_downsample=True))\n",
    "        self.features.add_module('cifar_5', \n",
    "                                 CifarResidualBlock(128, 128))\n",
    "        self.features.add_module('dropout_2', \n",
    "                                 nn.Dropout(p=0.2))\n",
    "        self.features.add_module('cifar_6', \n",
    "                                 CifarResidualBlock(128, 128))\n",
    "        self.features.add_module('cifar_7', \n",
    "                                 CifarResidualBlock(128, 256, stride=2,\n",
    "                                                    make_downsample=True))\n",
    "        self.features.add_module('cifar_8', \n",
    "                                 CifarResidualBlock(256, 256))\n",
    "        self.features.add_module('dropout_3', \n",
    "                                 nn.Dropout(p=0.2))\n",
    "        self.features.add_module('cifar_9', \n",
    "                                 CifarResidualBlock(256, 256))\n",
    "        self.features.add_module('cifar_10', \n",
    "                                 CifarResidualBlock(256, 512, stride=2,\n",
    "                                                    make_downsample=True))\n",
    "\n",
    "        self.global_avg_pooling = nn.AvgPool2d(kernel_size=8)\n",
    "        self.fc_classifier = nn.Linear(512, 100)\n",
    "        \n",
    "        \n",
    "    def forward(self, x):\n",
    "        x = self.features(x)\n",
    "        x = self.global_avg_pooling(x)        \n",
    "        x = x.view((x.size()[0], -1))        \n",
    "        x = self.fc_classifier(x)        \n",
    "        return x\n"
   ]
  },
  {
   "cell_type": "code",
   "execution_count": 112,
   "metadata": {
    "collapsed": false
   },
   "outputs": [
    {
     "name": "stdout",
     "output_type": "stream",
     "text": [
      "Epoch 0\t Train accuracy 0.1024\n",
      "Epoch time :  41.11146354675293\n",
      "Epoch 1\t Train accuracy 0.2172\n",
      "Epoch time :  41.813024282455444\n",
      "Epoch 2\t Train accuracy 0.3115\n",
      "Epoch time :  42.263654947280884\n",
      "Epoch 3\t Train accuracy 0.3837\n",
      "Epoch time :  43.07895469665527\n",
      "Epoch 4\t Train accuracy 0.4411\n",
      "Epoch time :  43.346132040023804\n",
      "Epoch 5\t Train accuracy 0.4862\n",
      "Epoch time :  43.16741943359375\n",
      "Epoch 6\t Train accuracy 0.5179\n",
      "Epoch time :  43.32621121406555\n",
      "Epoch 7\t Train accuracy 0.5515\n",
      "Epoch time :  43.48669672012329\n",
      "Epoch 8\t Train accuracy 0.572\n",
      "Epoch time :  43.518646478652954\n",
      "Epoch 9\t Train accuracy 0.5998\n",
      "Epoch time :  43.36449098587036\n",
      "Epoch 10\t Train accuracy 0.6192\n",
      "Epoch time :  43.49647259712219\n",
      "Epoch 11\t Train accuracy 0.6358\n",
      "Epoch time :  43.49483895301819\n",
      "Epoch 12\t Train accuracy 0.6479\n",
      "Epoch time :  43.43880867958069\n",
      "Epoch 13\t Train accuracy 0.6647\n",
      "Epoch time :  43.34212684631348\n",
      "Epoch 14\t Train accuracy 0.674\n",
      "Epoch time :  43.382230043411255\n",
      "Epoch 15\t Train accuracy 0.6862\n",
      "Epoch time :  43.27711629867554\n",
      "Epoch 16\t Train accuracy 0.6956\n",
      "Epoch time :  43.279526233673096\n",
      "Epoch 17\t Train accuracy 0.7068\n",
      "Epoch time :  43.54237222671509\n",
      "Epoch 18\t Train accuracy 0.7134\n",
      "Epoch time :  43.44389295578003\n",
      "Epoch 19\t Train accuracy 0.725\n",
      "Epoch time :  43.59258961677551\n",
      "Epoch 20\t Train accuracy 0.7345\n",
      "Epoch time :  43.31738519668579\n",
      "Epoch 21\t Train accuracy 0.738\n",
      "Epoch time :  43.25743746757507\n",
      "Epoch 22\t Train accuracy 0.7464\n",
      "Epoch time :  43.21497917175293\n",
      "Epoch 23\t Train accuracy 0.7552\n",
      "Epoch time :  43.72663116455078\n",
      "Epoch 24\t Train accuracy 0.7614\n",
      "Epoch time :  43.25201344490051\n",
      "Epoch 25\t Train accuracy 0.7691\n",
      "Epoch time :  43.188445806503296\n",
      "Epoch 26\t Train accuracy 0.7712\n",
      "Epoch time :  43.206090450286865\n",
      "Epoch 27\t Train accuracy 0.7785\n",
      "Epoch time :  43.463908195495605\n",
      "Epoch 28\t Train accuracy 0.779\n",
      "Epoch time :  43.1430881023407\n",
      "Epoch 29\t Train accuracy 0.7867\n",
      "Epoch time :  43.24136471748352\n",
      "Epoch 30\t Train accuracy 0.7912\n",
      "Epoch time :  43.37026810646057\n",
      "Epoch 31\t Train accuracy 0.7938\n",
      "Epoch time :  43.299084424972534\n",
      "Epoch 32\t Train accuracy 0.8009\n",
      "Epoch time :  43.279589891433716\n",
      "Epoch 33\t Train accuracy 0.8067\n",
      "Epoch time :  43.32260727882385\n",
      "Epoch 34\t Train accuracy 0.8096\n",
      "Epoch time :  43.38830757141113\n",
      "Epoch 35\t Train accuracy 0.8103\n",
      "Epoch time :  43.259156227111816\n",
      "Epoch 36\t Train accuracy 0.8135\n",
      "Epoch time :  43.52183938026428\n",
      "Epoch 37\t Train accuracy 0.8165\n",
      "Epoch time :  43.39319348335266\n",
      "Epoch 38\t Train accuracy 0.8197\n",
      "Epoch time :  43.481480836868286\n",
      "Epoch 39\t Train accuracy 0.8237\n",
      "Epoch time :  43.58085751533508\n",
      "Epoch 40\t Train accuracy 0.8265\n",
      "Epoch time :  43.14214849472046\n",
      "Epoch 41\t Train accuracy 0.8326\n",
      "Epoch time :  43.45016956329346\n",
      "Epoch 42\t Train accuracy 0.9188\n",
      "Epoch time :  43.329344749450684\n",
      "Epoch 43\t Train accuracy 0.9489\n",
      "Epoch time :  43.53605079650879\n",
      "Epoch 44\t Train accuracy 0.9587\n",
      "Epoch time :  43.62057065963745\n",
      "Epoch 45\t Train accuracy 0.9655\n",
      "Epoch time :  43.20199966430664\n",
      "Epoch 46\t Train accuracy 0.9701\n",
      "Epoch time :  43.45183181762695\n",
      "Epoch 47\t Train accuracy 0.9721\n",
      "Epoch time :  43.465564012527466\n",
      "Epoch 48\t Train accuracy 0.9767\n",
      "Epoch time :  43.42420935630798\n",
      "Epoch 49\t Train accuracy 0.977\n",
      "Epoch time :  43.32304620742798\n",
      "Epoch 50\t Train accuracy 0.9808\n",
      "Epoch time :  43.20966863632202\n",
      "Epoch 51\t Train accuracy 0.9817\n",
      "Epoch time :  43.54595160484314\n",
      "Finished Training\n",
      "Total time :  2250.376012802124\n"
     ]
    },
    {
     "data": {
      "image/png": "[encoded data removed]",
      "text/plain": [
       "<Figure size 432x288 with 1 Axes>"
      ]
     },
     "metadata": {},
     "output_type": "display_data"
    }
   ],
   "source": [
    "resnet = CifarResNet()\n",
    "train_network(resnet, torch.device(DEVICE), a_epochs=52)"
   ]
  },
  {
   "cell_type": "markdown",
   "metadata": {},
   "source": [
    "# Важно переключить сеть в режим eval - иначе dropout будет работать некорректно"
   ]
  },
  {
   "cell_type": "code",
   "execution_count": 113,
   "metadata": {
    "collapsed": true
   },
   "outputs": [],
   "source": [
    "def make_solution(a_net, a_device):\n",
    "    res = []\n",
    "    net = a_net.eval()\n",
    "    for item in dataloader_test_norm:\n",
    "        inputs = item.to(a_device)\n",
    "        outputs = net(inputs) \n",
    "\n",
    "        res += prediction2classes(outputs)\n",
    "    return res"
   ]
  },
  {
   "cell_type": "code",
   "execution_count": 114,
   "metadata": {
    "collapsed": true
   },
   "outputs": [],
   "source": [
    "my_solution = make_solution(resnet, DEVICE)"
   ]
  },
  {
   "cell_type": "code",
   "execution_count": 115,
   "metadata": {
    "collapsed": true
   },
   "outputs": [],
   "source": [
    "with open('submission.csv', 'w') as fout:\n",
    "    print('Id', 'Prediction', sep=',', file=fout)\n",
    "    for i, prediction in enumerate(my_solution):\n",
    "        print(i, prediction, sep=',', file=fout)"
   ]
  }
 ],
 "metadata": {
  "kernelspec": {
   "display_name": "Python 3",
   "language": "python",
   "name": "python3"
  },
  "language_info": {
   "codemirror_mode": {
    "name": "ipython",
    "version": 3
   },
   "file_extension": ".py",
   "mimetype": "text/x-python",
   "name": "python",
   "nbconvert_exporter": "python",
   "pygments_lexer": "ipython3",
   "version": "3.6.8"
  }
 },
 "nbformat": 4,
 "nbformat_minor": 1
}
